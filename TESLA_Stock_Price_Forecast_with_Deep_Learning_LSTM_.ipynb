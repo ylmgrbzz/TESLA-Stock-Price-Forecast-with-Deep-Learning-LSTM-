{
  "nbformat": 4,
  "nbformat_minor": 0,
  "metadata": {
    "colab": {
      "provenance": [],
      "authorship_tag": "ABX9TyP+drz+QfhH7+CA0jUxIXU3",
      "include_colab_link": true
    },
    "kernelspec": {
      "name": "python3",
      "display_name": "Python 3"
    },
    "language_info": {
      "name": "python"
    }
  },
  "cells": [
    {
      "cell_type": "markdown",
      "metadata": {
        "id": "view-in-github",
        "colab_type": "text"
      },
      "source": [
        "<a href=\"https://colab.research.google.com/github/ylmgrbzz/TESLA-Stock-Price-Forecast-with-Deep-Learning-LSTM-/blob/main/TESLA_Stock_Price_Forecast_with_Deep_Learning_LSTM_.ipynb\" target=\"_parent\"><img src=\"https://colab.research.google.com/assets/colab-badge.svg\" alt=\"Open In Colab\"/></a>"
      ]
    },
    {
      "cell_type": "code",
      "execution_count": 39,
      "metadata": {
        "id": "_22Q4h7OIHAV"
      },
      "outputs": [],
      "source": [
        "import datetime as dt\n",
        "import numpy as np\n",
        "import urllib\n",
        "import pandas as pd\n",
        "import seaborn as sns\n",
        "import random ,os ,glob\n",
        "import matplotlib.pyplot as plt\n",
        "import cv2\n",
        "from imutils import paths\n",
        "import itertools\n",
        "from sklearn.utils import shuffle\n",
        "from urllib.request import urlopen\n",
        "import warnings\n",
        "from sklearn.metrics import confusion_matrix,classification_report\n",
        "import tensorflow as tf\n",
        "from sklearn.metrics import mean_squared_error\n",
        "\n",
        "from tensorflow.keras.models import Sequential\n",
        "from sklearn.preprocessing import MinMaxScaler\n",
        "from tensorflow.keras.utils import to_categorical\n",
        "from tensorflow.keras.callbacks import ModelCheckpoint, EarlyStopping\n",
        "from tensorflow.keras.layers import Conv2D, Flatten, MaxPooling2D, Dense,Dropout,SpatialDropout2D,SimpleRNN,LSTM"
      ]
    },
    {
      "cell_type": "code",
      "source": [
        "warnings.filterwarnings('ignore')\n",
        "import os \n",
        "os.environ[\"TF_CPP_MIN_LOG_LEVEL\"]='3'\n",
        "tf.compat.v1.logging.set_verbosity(tf.compat.v1.logging.ERROR)\n"
      ],
      "metadata": {
        "id": "VWA8ZvexIVfg"
      },
      "execution_count": 3,
      "outputs": []
    },
    {
      "cell_type": "code",
      "source": [
        "df=pd.read_csv(\"TSLA.csv\")"
      ],
      "metadata": {
        "id": "VQU6jBRTIWSH"
      },
      "execution_count": 2,
      "outputs": []
    },
    {
      "cell_type": "code",
      "source": [
        "df.head()"
      ],
      "metadata": {
        "colab": {
          "base_uri": "https://localhost:8080/",
          "height": 206
        },
        "id": "Ld0Qo-RZIrHu",
        "outputId": "8fed2b22-e53a-419d-fdf0-febc8a74d862"
      },
      "execution_count": 4,
      "outputs": [
        {
          "output_type": "execute_result",
          "data": {
            "text/plain": [
              "         Date       Open   High        Low      Close  Adj Close    Volume\n",
              "0  2010-06-29  19.000000  25.00  17.540001  23.889999  23.889999  18766300\n",
              "1  2010-06-30  25.790001  30.42  23.299999  23.830000  23.830000  17187100\n",
              "2  2010-07-01  25.000000  25.92  20.270000  21.959999  21.959999   8218800\n",
              "3  2010-07-02  23.000000  23.10  18.709999  19.200001  19.200001   5139800\n",
              "4  2010-07-06  20.000000  20.00  15.830000  16.110001  16.110001   6866900"
            ],
            "text/html": [
              "\n",
              "  <div id=\"df-e3a136eb-2d7e-4fdf-884d-02d70828d8e1\">\n",
              "    <div class=\"colab-df-container\">\n",
              "      <div>\n",
              "<style scoped>\n",
              "    .dataframe tbody tr th:only-of-type {\n",
              "        vertical-align: middle;\n",
              "    }\n",
              "\n",
              "    .dataframe tbody tr th {\n",
              "        vertical-align: top;\n",
              "    }\n",
              "\n",
              "    .dataframe thead th {\n",
              "        text-align: right;\n",
              "    }\n",
              "</style>\n",
              "<table border=\"1\" class=\"dataframe\">\n",
              "  <thead>\n",
              "    <tr style=\"text-align: right;\">\n",
              "      <th></th>\n",
              "      <th>Date</th>\n",
              "      <th>Open</th>\n",
              "      <th>High</th>\n",
              "      <th>Low</th>\n",
              "      <th>Close</th>\n",
              "      <th>Adj Close</th>\n",
              "      <th>Volume</th>\n",
              "    </tr>\n",
              "  </thead>\n",
              "  <tbody>\n",
              "    <tr>\n",
              "      <th>0</th>\n",
              "      <td>2010-06-29</td>\n",
              "      <td>19.000000</td>\n",
              "      <td>25.00</td>\n",
              "      <td>17.540001</td>\n",
              "      <td>23.889999</td>\n",
              "      <td>23.889999</td>\n",
              "      <td>18766300</td>\n",
              "    </tr>\n",
              "    <tr>\n",
              "      <th>1</th>\n",
              "      <td>2010-06-30</td>\n",
              "      <td>25.790001</td>\n",
              "      <td>30.42</td>\n",
              "      <td>23.299999</td>\n",
              "      <td>23.830000</td>\n",
              "      <td>23.830000</td>\n",
              "      <td>17187100</td>\n",
              "    </tr>\n",
              "    <tr>\n",
              "      <th>2</th>\n",
              "      <td>2010-07-01</td>\n",
              "      <td>25.000000</td>\n",
              "      <td>25.92</td>\n",
              "      <td>20.270000</td>\n",
              "      <td>21.959999</td>\n",
              "      <td>21.959999</td>\n",
              "      <td>8218800</td>\n",
              "    </tr>\n",
              "    <tr>\n",
              "      <th>3</th>\n",
              "      <td>2010-07-02</td>\n",
              "      <td>23.000000</td>\n",
              "      <td>23.10</td>\n",
              "      <td>18.709999</td>\n",
              "      <td>19.200001</td>\n",
              "      <td>19.200001</td>\n",
              "      <td>5139800</td>\n",
              "    </tr>\n",
              "    <tr>\n",
              "      <th>4</th>\n",
              "      <td>2010-07-06</td>\n",
              "      <td>20.000000</td>\n",
              "      <td>20.00</td>\n",
              "      <td>15.830000</td>\n",
              "      <td>16.110001</td>\n",
              "      <td>16.110001</td>\n",
              "      <td>6866900</td>\n",
              "    </tr>\n",
              "  </tbody>\n",
              "</table>\n",
              "</div>\n",
              "      <button class=\"colab-df-convert\" onclick=\"convertToInteractive('df-e3a136eb-2d7e-4fdf-884d-02d70828d8e1')\"\n",
              "              title=\"Convert this dataframe to an interactive table.\"\n",
              "              style=\"display:none;\">\n",
              "        \n",
              "  <svg xmlns=\"http://www.w3.org/2000/svg\" height=\"24px\"viewBox=\"0 0 24 24\"\n",
              "       width=\"24px\">\n",
              "    <path d=\"M0 0h24v24H0V0z\" fill=\"none\"/>\n",
              "    <path d=\"M18.56 5.44l.94 2.06.94-2.06 2.06-.94-2.06-.94-.94-2.06-.94 2.06-2.06.94zm-11 1L8.5 8.5l.94-2.06 2.06-.94-2.06-.94L8.5 2.5l-.94 2.06-2.06.94zm10 10l.94 2.06.94-2.06 2.06-.94-2.06-.94-.94-2.06-.94 2.06-2.06.94z\"/><path d=\"M17.41 7.96l-1.37-1.37c-.4-.4-.92-.59-1.43-.59-.52 0-1.04.2-1.43.59L10.3 9.45l-7.72 7.72c-.78.78-.78 2.05 0 2.83L4 21.41c.39.39.9.59 1.41.59.51 0 1.02-.2 1.41-.59l7.78-7.78 2.81-2.81c.8-.78.8-2.07 0-2.86zM5.41 20L4 18.59l7.72-7.72 1.47 1.35L5.41 20z\"/>\n",
              "  </svg>\n",
              "      </button>\n",
              "      \n",
              "  <style>\n",
              "    .colab-df-container {\n",
              "      display:flex;\n",
              "      flex-wrap:wrap;\n",
              "      gap: 12px;\n",
              "    }\n",
              "\n",
              "    .colab-df-convert {\n",
              "      background-color: #E8F0FE;\n",
              "      border: none;\n",
              "      border-radius: 50%;\n",
              "      cursor: pointer;\n",
              "      display: none;\n",
              "      fill: #1967D2;\n",
              "      height: 32px;\n",
              "      padding: 0 0 0 0;\n",
              "      width: 32px;\n",
              "    }\n",
              "\n",
              "    .colab-df-convert:hover {\n",
              "      background-color: #E2EBFA;\n",
              "      box-shadow: 0px 1px 2px rgba(60, 64, 67, 0.3), 0px 1px 3px 1px rgba(60, 64, 67, 0.15);\n",
              "      fill: #174EA6;\n",
              "    }\n",
              "\n",
              "    [theme=dark] .colab-df-convert {\n",
              "      background-color: #3B4455;\n",
              "      fill: #D2E3FC;\n",
              "    }\n",
              "\n",
              "    [theme=dark] .colab-df-convert:hover {\n",
              "      background-color: #434B5C;\n",
              "      box-shadow: 0px 1px 3px 1px rgba(0, 0, 0, 0.15);\n",
              "      filter: drop-shadow(0px 1px 2px rgba(0, 0, 0, 0.3));\n",
              "      fill: #FFFFFF;\n",
              "    }\n",
              "  </style>\n",
              "\n",
              "      <script>\n",
              "        const buttonEl =\n",
              "          document.querySelector('#df-e3a136eb-2d7e-4fdf-884d-02d70828d8e1 button.colab-df-convert');\n",
              "        buttonEl.style.display =\n",
              "          google.colab.kernel.accessAllowed ? 'block' : 'none';\n",
              "\n",
              "        async function convertToInteractive(key) {\n",
              "          const element = document.querySelector('#df-e3a136eb-2d7e-4fdf-884d-02d70828d8e1');\n",
              "          const dataTable =\n",
              "            await google.colab.kernel.invokeFunction('convertToInteractive',\n",
              "                                                     [key], {});\n",
              "          if (!dataTable) return;\n",
              "\n",
              "          const docLinkHtml = 'Like what you see? Visit the ' +\n",
              "            '<a target=\"_blank\" href=https://colab.research.google.com/notebooks/data_table.ipynb>data table notebook</a>'\n",
              "            + ' to learn more about interactive tables.';\n",
              "          element.innerHTML = '';\n",
              "          dataTable['output_type'] = 'display_data';\n",
              "          await google.colab.output.renderOutput(dataTable, element);\n",
              "          const docLink = document.createElement('div');\n",
              "          docLink.innerHTML = docLinkHtml;\n",
              "          element.appendChild(docLink);\n",
              "        }\n",
              "      </script>\n",
              "    </div>\n",
              "  </div>\n",
              "  "
            ]
          },
          "metadata": {},
          "execution_count": 4
        }
      ]
    },
    {
      "cell_type": "code",
      "source": [
        "def check_df(dataframe,head=5):\n",
        "  print(dataframe.shape)\n",
        "  print(dataframe.dtypes)\n",
        "  print(dataframe.head(head))\n",
        "  print(dataframe.tail(head))\n",
        "  print(dataframe.isnull().sum())\n",
        "  print(dataframe.quantile([0,0.05,0.50,0.95,0.99,1]).T)\n",
        "  "
      ],
      "metadata": {
        "id": "p32r3evFIud4"
      },
      "execution_count": 5,
      "outputs": []
    },
    {
      "cell_type": "code",
      "source": [
        "check_df(df)"
      ],
      "metadata": {
        "colab": {
          "base_uri": "https://localhost:8080/"
        },
        "id": "ct4QM3LyJNc8",
        "outputId": "f581b79b-fa20-4fb7-8820-13619c13a960"
      },
      "execution_count": 6,
      "outputs": [
        {
          "output_type": "stream",
          "name": "stdout",
          "text": [
            "(2416, 7)\n",
            "Date          object\n",
            "Open         float64\n",
            "High         float64\n",
            "Low          float64\n",
            "Close        float64\n",
            "Adj Close    float64\n",
            "Volume         int64\n",
            "dtype: object\n",
            "         Date       Open   High        Low      Close  Adj Close    Volume\n",
            "0  2010-06-29  19.000000  25.00  17.540001  23.889999  23.889999  18766300\n",
            "1  2010-06-30  25.790001  30.42  23.299999  23.830000  23.830000  17187100\n",
            "2  2010-07-01  25.000000  25.92  20.270000  21.959999  21.959999   8218800\n",
            "3  2010-07-02  23.000000  23.10  18.709999  19.200001  19.200001   5139800\n",
            "4  2010-07-06  20.000000  20.00  15.830000  16.110001  16.110001   6866900\n",
            "            Date        Open        High         Low       Close   Adj Close  \\\n",
            "2411  2020-01-28  568.489990  576.809998  558.080017  566.900024  566.900024   \n",
            "2412  2020-01-29  575.690002  589.799988  567.429993  580.989990  580.989990   \n",
            "2413  2020-01-30  632.419983  650.880005  618.000000  640.809998  640.809998   \n",
            "2414  2020-01-31  640.000000  653.000000  632.520020  650.570007  650.570007   \n",
            "2415  2020-02-03  673.690002  786.140015  673.520020  780.000000  780.000000   \n",
            "\n",
            "        Volume  \n",
            "2411  11788500  \n",
            "2412  17801500  \n",
            "2413  29005700  \n",
            "2414  15719300  \n",
            "2415  47065000  \n",
            "Date         0\n",
            "Open         0\n",
            "High         0\n",
            "Low          0\n",
            "Close        0\n",
            "Adj Close    0\n",
            "Volume       0\n",
            "dtype: int64\n",
            "                    0.00           0.05          0.50          0.95  \\\n",
            "Open           16.139999      23.384999  2.130350e+02  3.519100e+02   \n",
            "High           16.629999      24.022501  2.167450e+02  3.567500e+02   \n",
            "Low            14.980000      22.867499  2.088700e+02  3.460250e+02   \n",
            "Close          15.800000      23.565000  2.129600e+02  3.511675e+02   \n",
            "Adj Close      15.800000      23.565000  2.129600e+02  3.511675e+02   \n",
            "Volume     118500.000000  633825.000000  4.578400e+06  1.476090e+07   \n",
            "\n",
            "                   0.99          1.00  \n",
            "Open       4.235790e+02  6.736900e+02  \n",
            "High       4.284705e+02  7.861400e+02  \n",
            "Low        4.122865e+02  6.735200e+02  \n",
            "Close      4.243455e+02  7.800000e+02  \n",
            "Adj Close  4.243455e+02  7.800000e+02  \n",
            "Volume     2.459959e+07  4.706500e+07  \n"
          ]
        }
      ]
    },
    {
      "cell_type": "code",
      "source": [
        "df[\"Date\"]=pd.to_datetime(df[\"Date\"])"
      ],
      "metadata": {
        "id": "jk94I371JT53"
      },
      "execution_count": 7,
      "outputs": []
    },
    {
      "cell_type": "code",
      "source": [
        "tesla_df=df[[\"Date\",\"Close\"]]"
      ],
      "metadata": {
        "id": "Ee4xIrnAJi2v"
      },
      "execution_count": 8,
      "outputs": []
    },
    {
      "cell_type": "code",
      "source": [
        "tesla_df.head()"
      ],
      "metadata": {
        "colab": {
          "base_uri": "https://localhost:8080/",
          "height": 206
        },
        "id": "iPPKCYB_Jo1z",
        "outputId": "38ad0306-efea-464f-89a0-b3b0649a3059"
      },
      "execution_count": 9,
      "outputs": [
        {
          "output_type": "execute_result",
          "data": {
            "text/plain": [
              "        Date      Close\n",
              "0 2010-06-29  23.889999\n",
              "1 2010-06-30  23.830000\n",
              "2 2010-07-01  21.959999\n",
              "3 2010-07-02  19.200001\n",
              "4 2010-07-06  16.110001"
            ],
            "text/html": [
              "\n",
              "  <div id=\"df-d988c5cf-b995-494a-822c-e8228e06e304\">\n",
              "    <div class=\"colab-df-container\">\n",
              "      <div>\n",
              "<style scoped>\n",
              "    .dataframe tbody tr th:only-of-type {\n",
              "        vertical-align: middle;\n",
              "    }\n",
              "\n",
              "    .dataframe tbody tr th {\n",
              "        vertical-align: top;\n",
              "    }\n",
              "\n",
              "    .dataframe thead th {\n",
              "        text-align: right;\n",
              "    }\n",
              "</style>\n",
              "<table border=\"1\" class=\"dataframe\">\n",
              "  <thead>\n",
              "    <tr style=\"text-align: right;\">\n",
              "      <th></th>\n",
              "      <th>Date</th>\n",
              "      <th>Close</th>\n",
              "    </tr>\n",
              "  </thead>\n",
              "  <tbody>\n",
              "    <tr>\n",
              "      <th>0</th>\n",
              "      <td>2010-06-29</td>\n",
              "      <td>23.889999</td>\n",
              "    </tr>\n",
              "    <tr>\n",
              "      <th>1</th>\n",
              "      <td>2010-06-30</td>\n",
              "      <td>23.830000</td>\n",
              "    </tr>\n",
              "    <tr>\n",
              "      <th>2</th>\n",
              "      <td>2010-07-01</td>\n",
              "      <td>21.959999</td>\n",
              "    </tr>\n",
              "    <tr>\n",
              "      <th>3</th>\n",
              "      <td>2010-07-02</td>\n",
              "      <td>19.200001</td>\n",
              "    </tr>\n",
              "    <tr>\n",
              "      <th>4</th>\n",
              "      <td>2010-07-06</td>\n",
              "      <td>16.110001</td>\n",
              "    </tr>\n",
              "  </tbody>\n",
              "</table>\n",
              "</div>\n",
              "      <button class=\"colab-df-convert\" onclick=\"convertToInteractive('df-d988c5cf-b995-494a-822c-e8228e06e304')\"\n",
              "              title=\"Convert this dataframe to an interactive table.\"\n",
              "              style=\"display:none;\">\n",
              "        \n",
              "  <svg xmlns=\"http://www.w3.org/2000/svg\" height=\"24px\"viewBox=\"0 0 24 24\"\n",
              "       width=\"24px\">\n",
              "    <path d=\"M0 0h24v24H0V0z\" fill=\"none\"/>\n",
              "    <path d=\"M18.56 5.44l.94 2.06.94-2.06 2.06-.94-2.06-.94-.94-2.06-.94 2.06-2.06.94zm-11 1L8.5 8.5l.94-2.06 2.06-.94-2.06-.94L8.5 2.5l-.94 2.06-2.06.94zm10 10l.94 2.06.94-2.06 2.06-.94-2.06-.94-.94-2.06-.94 2.06-2.06.94z\"/><path d=\"M17.41 7.96l-1.37-1.37c-.4-.4-.92-.59-1.43-.59-.52 0-1.04.2-1.43.59L10.3 9.45l-7.72 7.72c-.78.78-.78 2.05 0 2.83L4 21.41c.39.39.9.59 1.41.59.51 0 1.02-.2 1.41-.59l7.78-7.78 2.81-2.81c.8-.78.8-2.07 0-2.86zM5.41 20L4 18.59l7.72-7.72 1.47 1.35L5.41 20z\"/>\n",
              "  </svg>\n",
              "      </button>\n",
              "      \n",
              "  <style>\n",
              "    .colab-df-container {\n",
              "      display:flex;\n",
              "      flex-wrap:wrap;\n",
              "      gap: 12px;\n",
              "    }\n",
              "\n",
              "    .colab-df-convert {\n",
              "      background-color: #E8F0FE;\n",
              "      border: none;\n",
              "      border-radius: 50%;\n",
              "      cursor: pointer;\n",
              "      display: none;\n",
              "      fill: #1967D2;\n",
              "      height: 32px;\n",
              "      padding: 0 0 0 0;\n",
              "      width: 32px;\n",
              "    }\n",
              "\n",
              "    .colab-df-convert:hover {\n",
              "      background-color: #E2EBFA;\n",
              "      box-shadow: 0px 1px 2px rgba(60, 64, 67, 0.3), 0px 1px 3px 1px rgba(60, 64, 67, 0.15);\n",
              "      fill: #174EA6;\n",
              "    }\n",
              "\n",
              "    [theme=dark] .colab-df-convert {\n",
              "      background-color: #3B4455;\n",
              "      fill: #D2E3FC;\n",
              "    }\n",
              "\n",
              "    [theme=dark] .colab-df-convert:hover {\n",
              "      background-color: #434B5C;\n",
              "      box-shadow: 0px 1px 3px 1px rgba(0, 0, 0, 0.15);\n",
              "      filter: drop-shadow(0px 1px 2px rgba(0, 0, 0, 0.3));\n",
              "      fill: #FFFFFF;\n",
              "    }\n",
              "  </style>\n",
              "\n",
              "      <script>\n",
              "        const buttonEl =\n",
              "          document.querySelector('#df-d988c5cf-b995-494a-822c-e8228e06e304 button.colab-df-convert');\n",
              "        buttonEl.style.display =\n",
              "          google.colab.kernel.accessAllowed ? 'block' : 'none';\n",
              "\n",
              "        async function convertToInteractive(key) {\n",
              "          const element = document.querySelector('#df-d988c5cf-b995-494a-822c-e8228e06e304');\n",
              "          const dataTable =\n",
              "            await google.colab.kernel.invokeFunction('convertToInteractive',\n",
              "                                                     [key], {});\n",
              "          if (!dataTable) return;\n",
              "\n",
              "          const docLinkHtml = 'Like what you see? Visit the ' +\n",
              "            '<a target=\"_blank\" href=https://colab.research.google.com/notebooks/data_table.ipynb>data table notebook</a>'\n",
              "            + ' to learn more about interactive tables.';\n",
              "          element.innerHTML = '';\n",
              "          dataTable['output_type'] = 'display_data';\n",
              "          await google.colab.output.renderOutput(dataTable, element);\n",
              "          const docLink = document.createElement('div');\n",
              "          docLink.innerHTML = docLinkHtml;\n",
              "          element.appendChild(docLink);\n",
              "        }\n",
              "      </script>\n",
              "    </div>\n",
              "  </div>\n",
              "  "
            ]
          },
          "metadata": {},
          "execution_count": 9
        }
      ]
    },
    {
      "cell_type": "code",
      "source": [
        "print(\"Min Tarih:\",tesla_df[\"Date\"].min())\n",
        "print(\"Max Tarih:\",tesla_df[\"Date\"].max())"
      ],
      "metadata": {
        "colab": {
          "base_uri": "https://localhost:8080/"
        },
        "id": "uMcVma3gJqCc",
        "outputId": "ffd35f1c-8929-40fd-f3e6-2c7d22cd155d"
      },
      "execution_count": 10,
      "outputs": [
        {
          "output_type": "stream",
          "name": "stdout",
          "text": [
            "Min Tarih: 2010-06-29 00:00:00\n",
            "Max Tarih: 2020-02-03 00:00:00\n"
          ]
        }
      ]
    },
    {
      "cell_type": "code",
      "source": [
        "tesla_df.index=tesla_df[\"Date\"]"
      ],
      "metadata": {
        "id": "3hqfiWxlJxud"
      },
      "execution_count": 12,
      "outputs": []
    },
    {
      "cell_type": "code",
      "source": [
        "tesla_df.drop(\"Date\",axis=1,inplace=True)"
      ],
      "metadata": {
        "id": "nDfgPg1LJ4TN"
      },
      "execution_count": 13,
      "outputs": []
    },
    {
      "cell_type": "code",
      "source": [
        "tesla_df"
      ],
      "metadata": {
        "colab": {
          "base_uri": "https://localhost:8080/",
          "height": 455
        },
        "id": "Fdr-qfC-J_f1",
        "outputId": "ce0e6fbd-3eba-4667-8684-462491438c29"
      },
      "execution_count": 14,
      "outputs": [
        {
          "output_type": "execute_result",
          "data": {
            "text/plain": [
              "                 Close\n",
              "Date                  \n",
              "2010-06-29   23.889999\n",
              "2010-06-30   23.830000\n",
              "2010-07-01   21.959999\n",
              "2010-07-02   19.200001\n",
              "2010-07-06   16.110001\n",
              "...                ...\n",
              "2020-01-28  566.900024\n",
              "2020-01-29  580.989990\n",
              "2020-01-30  640.809998\n",
              "2020-01-31  650.570007\n",
              "2020-02-03  780.000000\n",
              "\n",
              "[2416 rows x 1 columns]"
            ],
            "text/html": [
              "\n",
              "  <div id=\"df-c257baba-6ce3-4f1d-89d1-13c724572092\">\n",
              "    <div class=\"colab-df-container\">\n",
              "      <div>\n",
              "<style scoped>\n",
              "    .dataframe tbody tr th:only-of-type {\n",
              "        vertical-align: middle;\n",
              "    }\n",
              "\n",
              "    .dataframe tbody tr th {\n",
              "        vertical-align: top;\n",
              "    }\n",
              "\n",
              "    .dataframe thead th {\n",
              "        text-align: right;\n",
              "    }\n",
              "</style>\n",
              "<table border=\"1\" class=\"dataframe\">\n",
              "  <thead>\n",
              "    <tr style=\"text-align: right;\">\n",
              "      <th></th>\n",
              "      <th>Close</th>\n",
              "    </tr>\n",
              "    <tr>\n",
              "      <th>Date</th>\n",
              "      <th></th>\n",
              "    </tr>\n",
              "  </thead>\n",
              "  <tbody>\n",
              "    <tr>\n",
              "      <th>2010-06-29</th>\n",
              "      <td>23.889999</td>\n",
              "    </tr>\n",
              "    <tr>\n",
              "      <th>2010-06-30</th>\n",
              "      <td>23.830000</td>\n",
              "    </tr>\n",
              "    <tr>\n",
              "      <th>2010-07-01</th>\n",
              "      <td>21.959999</td>\n",
              "    </tr>\n",
              "    <tr>\n",
              "      <th>2010-07-02</th>\n",
              "      <td>19.200001</td>\n",
              "    </tr>\n",
              "    <tr>\n",
              "      <th>2010-07-06</th>\n",
              "      <td>16.110001</td>\n",
              "    </tr>\n",
              "    <tr>\n",
              "      <th>...</th>\n",
              "      <td>...</td>\n",
              "    </tr>\n",
              "    <tr>\n",
              "      <th>2020-01-28</th>\n",
              "      <td>566.900024</td>\n",
              "    </tr>\n",
              "    <tr>\n",
              "      <th>2020-01-29</th>\n",
              "      <td>580.989990</td>\n",
              "    </tr>\n",
              "    <tr>\n",
              "      <th>2020-01-30</th>\n",
              "      <td>640.809998</td>\n",
              "    </tr>\n",
              "    <tr>\n",
              "      <th>2020-01-31</th>\n",
              "      <td>650.570007</td>\n",
              "    </tr>\n",
              "    <tr>\n",
              "      <th>2020-02-03</th>\n",
              "      <td>780.000000</td>\n",
              "    </tr>\n",
              "  </tbody>\n",
              "</table>\n",
              "<p>2416 rows × 1 columns</p>\n",
              "</div>\n",
              "      <button class=\"colab-df-convert\" onclick=\"convertToInteractive('df-c257baba-6ce3-4f1d-89d1-13c724572092')\"\n",
              "              title=\"Convert this dataframe to an interactive table.\"\n",
              "              style=\"display:none;\">\n",
              "        \n",
              "  <svg xmlns=\"http://www.w3.org/2000/svg\" height=\"24px\"viewBox=\"0 0 24 24\"\n",
              "       width=\"24px\">\n",
              "    <path d=\"M0 0h24v24H0V0z\" fill=\"none\"/>\n",
              "    <path d=\"M18.56 5.44l.94 2.06.94-2.06 2.06-.94-2.06-.94-.94-2.06-.94 2.06-2.06.94zm-11 1L8.5 8.5l.94-2.06 2.06-.94-2.06-.94L8.5 2.5l-.94 2.06-2.06.94zm10 10l.94 2.06.94-2.06 2.06-.94-2.06-.94-.94-2.06-.94 2.06-2.06.94z\"/><path d=\"M17.41 7.96l-1.37-1.37c-.4-.4-.92-.59-1.43-.59-.52 0-1.04.2-1.43.59L10.3 9.45l-7.72 7.72c-.78.78-.78 2.05 0 2.83L4 21.41c.39.39.9.59 1.41.59.51 0 1.02-.2 1.41-.59l7.78-7.78 2.81-2.81c.8-.78.8-2.07 0-2.86zM5.41 20L4 18.59l7.72-7.72 1.47 1.35L5.41 20z\"/>\n",
              "  </svg>\n",
              "      </button>\n",
              "      \n",
              "  <style>\n",
              "    .colab-df-container {\n",
              "      display:flex;\n",
              "      flex-wrap:wrap;\n",
              "      gap: 12px;\n",
              "    }\n",
              "\n",
              "    .colab-df-convert {\n",
              "      background-color: #E8F0FE;\n",
              "      border: none;\n",
              "      border-radius: 50%;\n",
              "      cursor: pointer;\n",
              "      display: none;\n",
              "      fill: #1967D2;\n",
              "      height: 32px;\n",
              "      padding: 0 0 0 0;\n",
              "      width: 32px;\n",
              "    }\n",
              "\n",
              "    .colab-df-convert:hover {\n",
              "      background-color: #E2EBFA;\n",
              "      box-shadow: 0px 1px 2px rgba(60, 64, 67, 0.3), 0px 1px 3px 1px rgba(60, 64, 67, 0.15);\n",
              "      fill: #174EA6;\n",
              "    }\n",
              "\n",
              "    [theme=dark] .colab-df-convert {\n",
              "      background-color: #3B4455;\n",
              "      fill: #D2E3FC;\n",
              "    }\n",
              "\n",
              "    [theme=dark] .colab-df-convert:hover {\n",
              "      background-color: #434B5C;\n",
              "      box-shadow: 0px 1px 3px 1px rgba(0, 0, 0, 0.15);\n",
              "      filter: drop-shadow(0px 1px 2px rgba(0, 0, 0, 0.3));\n",
              "      fill: #FFFFFF;\n",
              "    }\n",
              "  </style>\n",
              "\n",
              "      <script>\n",
              "        const buttonEl =\n",
              "          document.querySelector('#df-c257baba-6ce3-4f1d-89d1-13c724572092 button.colab-df-convert');\n",
              "        buttonEl.style.display =\n",
              "          google.colab.kernel.accessAllowed ? 'block' : 'none';\n",
              "\n",
              "        async function convertToInteractive(key) {\n",
              "          const element = document.querySelector('#df-c257baba-6ce3-4f1d-89d1-13c724572092');\n",
              "          const dataTable =\n",
              "            await google.colab.kernel.invokeFunction('convertToInteractive',\n",
              "                                                     [key], {});\n",
              "          if (!dataTable) return;\n",
              "\n",
              "          const docLinkHtml = 'Like what you see? Visit the ' +\n",
              "            '<a target=\"_blank\" href=https://colab.research.google.com/notebooks/data_table.ipynb>data table notebook</a>'\n",
              "            + ' to learn more about interactive tables.';\n",
              "          element.innerHTML = '';\n",
              "          dataTable['output_type'] = 'display_data';\n",
              "          await google.colab.output.renderOutput(dataTable, element);\n",
              "          const docLink = document.createElement('div');\n",
              "          docLink.innerHTML = docLinkHtml;\n",
              "          element.appendChild(docLink);\n",
              "        }\n",
              "      </script>\n",
              "    </div>\n",
              "  </div>\n",
              "  "
            ]
          },
          "metadata": {},
          "execution_count": 14
        }
      ]
    },
    {
      "cell_type": "code",
      "source": [
        "result_df=tesla_df.copy()"
      ],
      "metadata": {
        "id": "zOAjmB4-KAav"
      },
      "execution_count": 15,
      "outputs": []
    },
    {
      "cell_type": "code",
      "source": [
        "plt.figure(figsize=(12,6))\n",
        "plt.plot(tesla_df[\"Close\"],color=\"blue\")\n",
        "plt.ylabel(\"Stock Price\")\n",
        "plt.title(\"Tesla Stock Price\")\n",
        "plt.xlabel(\"Time\")\n",
        "plt.show()"
      ],
      "metadata": {
        "colab": {
          "base_uri": "https://localhost:8080/",
          "height": 404
        },
        "id": "4Birsc-uKPBu",
        "outputId": "e6b120f3-90fc-48a7-b7bd-0b296aa72c68"
      },
      "execution_count": 16,
      "outputs": [
        {
          "output_type": "display_data",
          "data": {
            "text/plain": [
              "<Figure size 864x432 with 1 Axes>"
            ],
            "image/png": "[encoded data removed]"
          },
          "metadata": {
            "needs_background": "light"
          }
        }
      ]
    },
    {
      "cell_type": "code",
      "source": [
        "tesla_df=tesla_df.values"
      ],
      "metadata": {
        "id": "CZVieupIKj8T"
      },
      "execution_count": 17,
      "outputs": []
    },
    {
      "cell_type": "code",
      "source": [
        "tesla_df[0:5]"
      ],
      "metadata": {
        "colab": {
          "base_uri": "https://localhost:8080/"
        },
        "id": "_Z0IwQnlK9qn",
        "outputId": "b3a845d5-be4d-4156-9a36-a4b8dbc76e64"
      },
      "execution_count": 18,
      "outputs": [
        {
          "output_type": "execute_result",
          "data": {
            "text/plain": [
              "array([[23.889999],\n",
              "       [23.83    ],\n",
              "       [21.959999],\n",
              "       [19.200001],\n",
              "       [16.110001]])"
            ]
          },
          "metadata": {},
          "execution_count": 18
        }
      ]
    },
    {
      "cell_type": "code",
      "source": [
        "tesla_df=tesla_df.astype(\"float32\")\n"
      ],
      "metadata": {
        "id": "ADSjW94OK_Xp"
      },
      "execution_count": 19,
      "outputs": []
    },
    {
      "cell_type": "code",
      "source": [
        "def split_data(dataframe,test_size):\n",
        "  pos=int(round(len(dataframe)*(1-test_size)))\n",
        "  train=dataframe[:pos]\n",
        "  test=dataframe[pos:]\n",
        "  return train,test,pos"
      ],
      "metadata": {
        "id": "6V6ytvoNLOeN"
      },
      "execution_count": 22,
      "outputs": []
    },
    {
      "cell_type": "code",
      "source": [
        "train,test,pos=split_data(tesla_df,0.20)\n"
      ],
      "metadata": {
        "id": "63qmy3LgLUkw"
      },
      "execution_count": 25,
      "outputs": []
    },
    {
      "cell_type": "code",
      "source": [
        "print(train.shape,test.shape\n",
        ")"
      ],
      "metadata": {
        "colab": {
          "base_uri": "https://localhost:8080/"
        },
        "id": "5DmD2pkGLasE",
        "outputId": "d839ceb4-494f-47b4-a71d-8469a938d82b"
      },
      "execution_count": 26,
      "outputs": [
        {
          "output_type": "stream",
          "name": "stdout",
          "text": [
            "(1933, 1) (483, 1)\n"
          ]
        }
      ]
    },
    {
      "cell_type": "code",
      "source": [
        "scaler_train=MinMaxScaler(feature_range=(0,1))\n",
        "train=scaler_train.fit_transform(train)\n",
        "scaler_test=MinMaxScaler(feature_range=(0,1))\n",
        "test=scaler_test.fit_transform(test)"
      ],
      "metadata": {
        "id": "mPkRYwjZLka1"
      },
      "execution_count": 27,
      "outputs": []
    },
    {
      "cell_type": "code",
      "source": [
        "train[0:5]"
      ],
      "metadata": {
        "colab": {
          "base_uri": "https://localhost:8080/"
        },
        "id": "-t0JojlZLvwl",
        "outputId": "c4c685b9-36a8-48dc-a99e-43649928a843"
      },
      "execution_count": 28,
      "outputs": [
        {
          "output_type": "execute_result",
          "data": {
            "text/plain": [
              "array([[0.02191224],\n",
              "       [0.02174973],\n",
              "       [0.01668472],\n",
              "       [0.0092091 ],\n",
              "       [0.00083966]], dtype=float32)"
            ]
          },
          "metadata": {},
          "execution_count": 28
        }
      ]
    },
    {
      "cell_type": "code",
      "source": [
        "\n",
        "test[0:5]"
      ],
      "metadata": {
        "colab": {
          "base_uri": "https://localhost:8080/"
        },
        "id": "3_oK5FyGLxQA",
        "outputId": "382b2d9f-0ce9-475b-bd37-9b98795c4b59"
      },
      "execution_count": 29,
      "outputs": [
        {
          "output_type": "execute_result",
          "data": {
            "text/plain": [
              "array([[0.25685903],\n",
              "       [0.24829045],\n",
              "       [0.25511202],\n",
              "       [0.24978784],\n",
              "       [0.2465767 ]], dtype=float32)"
            ]
          },
          "metadata": {},
          "execution_count": 29
        }
      ]
    },
    {
      "cell_type": "code",
      "source": [
        "def create_features(data,lookback):\n",
        "  X,Y=[],[]\n",
        "  for i in range(lookback,len(data)):\n",
        "    X.append(data[i-lookback:i,0])\n",
        "    Y.append(data[i,0])\n",
        "\n",
        "  return np.array(X), np.array(Y)"
      ],
      "metadata": {
        "id": "4X8bejPsLxlo"
      },
      "execution_count": 30,
      "outputs": []
    },
    {
      "cell_type": "code",
      "source": [
        "lookback=20"
      ],
      "metadata": {
        "id": "wnI0to6mMGiL"
      },
      "execution_count": 31,
      "outputs": []
    },
    {
      "cell_type": "code",
      "source": [
        "X_train,y_train=create_features(train,lookback)\n",
        "X_test,y_test=create_features(test,lookback)\n",
        "print(X_train.shape,y_train.shape,X_test.shape,y_test.shape)"
      ],
      "metadata": {
        "colab": {
          "base_uri": "https://localhost:8080/"
        },
        "id": "kO8b4jPyMHij",
        "outputId": "b89eb90a-89c6-4e17-f49f-01ea25e41fa8"
      },
      "execution_count": 32,
      "outputs": [
        {
          "output_type": "stream",
          "name": "stdout",
          "text": [
            "(1913, 20) (1913,) (463, 20) (463,)\n"
          ]
        }
      ]
    },
    {
      "cell_type": "code",
      "source": [
        "X_train[0:5]"
      ],
      "metadata": {
        "colab": {
          "base_uri": "https://localhost:8080/"
        },
        "id": "UzgS33QAML9_",
        "outputId": "38d82ecf-0e50-4a52-9f51-a27f9581a932"
      },
      "execution_count": 33,
      "outputs": [
        {
          "output_type": "execute_result",
          "data": {
            "text/plain": [
              "array([[0.02191224, 0.02174973, 0.01668472, 0.0092091 , 0.00083966,\n",
              "        0.        , 0.00449621, 0.00433369, 0.0033857 , 0.00633803,\n",
              "        0.01094258, 0.011078  , 0.01310942, 0.0165493 , 0.01218851,\n",
              "        0.01197183, 0.01408451, 0.01486999, 0.01394908, 0.01286566],\n",
              "       [0.02174973, 0.01668472, 0.0092091 , 0.00083966, 0.        ,\n",
              "        0.00449621, 0.00433369, 0.0033857 , 0.00633803, 0.01094258,\n",
              "        0.011078  , 0.01310942, 0.0165493 , 0.01218851, 0.01197183,\n",
              "        0.01408451, 0.01486999, 0.01394908, 0.01286566, 0.01332611],\n",
              "       [0.01668472, 0.0092091 , 0.00083966, 0.        , 0.00449621,\n",
              "        0.00433369, 0.0033857 , 0.00633803, 0.01094258, 0.011078  ,\n",
              "        0.01310942, 0.0165493 , 0.01218851, 0.01197183, 0.01408451,\n",
              "        0.01486999, 0.01394908, 0.01286566, 0.01332611, 0.01232395],\n",
              "       [0.0092091 , 0.00083966, 0.        , 0.00449621, 0.00433369,\n",
              "        0.0033857 , 0.00633803, 0.01094258, 0.011078  , 0.01310942,\n",
              "        0.0165493 , 0.01218851, 0.01197183, 0.01408451, 0.01486999,\n",
              "        0.01394908, 0.01286566, 0.01332611, 0.01232395, 0.01121344],\n",
              "       [0.00083966, 0.        , 0.00449621, 0.00433369, 0.0033857 ,\n",
              "        0.00633803, 0.01094258, 0.011078  , 0.01310942, 0.0165493 ,\n",
              "        0.01218851, 0.01197183, 0.01408451, 0.01486999, 0.01394908,\n",
              "        0.01286566, 0.01332611, 0.01232395, 0.01121344, 0.01386782]],\n",
              "      dtype=float32)"
            ]
          },
          "metadata": {},
          "execution_count": 33
        }
      ]
    },
    {
      "cell_type": "code",
      "source": [
        "y_train[0:5]"
      ],
      "metadata": {
        "colab": {
          "base_uri": "https://localhost:8080/"
        },
        "id": "_cgbrDu3MMl9",
        "outputId": "34612aa7-6fd7-4d86-b97d-4cad563353d4"
      },
      "execution_count": 35,
      "outputs": [
        {
          "output_type": "execute_result",
          "data": {
            "text/plain": [
              "array([0.01332611, 0.01232395, 0.01121344, 0.01386782, 0.01665764],\n",
              "      dtype=float32)"
            ]
          },
          "metadata": {},
          "execution_count": 35
        }
      ]
    },
    {
      "cell_type": "code",
      "source": [
        "X_train=np.reshape(X_train,(X_train.shape[0],1,X_train.shape[1]))\n",
        "X_test=np.reshape(X_test,(X_test.shape[0],1,X_test.shape[1]))\n",
        "y_train=y_train.reshape(-1,1)\n",
        "y_test=y_test.reshape(-1,1)"
      ],
      "metadata": {
        "id": "Yq1PXM5CMR_C"
      },
      "execution_count": 36,
      "outputs": []
    },
    {
      "cell_type": "code",
      "source": [
        "print(X_train.shape,y_train.shape,X_test.shape,y_test.shape)"
      ],
      "metadata": {
        "colab": {
          "base_uri": "https://localhost:8080/"
        },
        "id": "eY5dtyGiMdm0",
        "outputId": "2808d0a6-eacc-423f-a126-4ddaa14a4a3c"
      },
      "execution_count": 37,
      "outputs": [
        {
          "output_type": "stream",
          "name": "stdout",
          "text": [
            "(1913, 1, 20) (1913, 1) (463, 1, 20) (463, 1)\n"
          ]
        }
      ]
    },
    {
      "cell_type": "code",
      "source": [
        "model = Sequential()\n",
        "model.add(LSTM(units=50,activation='relu', \n",
        "                    input_shape=(X_train.shape[1],lookback)))\n",
        "model.add(Dropout(0.20))\n",
        "model.add(Dense(1))"
      ],
      "metadata": {
        "id": "Zyd0ysygMmUg"
      },
      "execution_count": 40,
      "outputs": []
    },
    {
      "cell_type": "code",
      "source": [
        "model.summary()\n"
      ],
      "metadata": {
        "colab": {
          "base_uri": "https://localhost:8080/"
        },
        "id": "6QoWUb82Myva",
        "outputId": "aaf8c832-c46b-4dd5-893e-7420cb05e71c"
      },
      "execution_count": 41,
      "outputs": [
        {
          "output_type": "stream",
          "name": "stdout",
          "text": [
            "Model: \"sequential_1\"\n",
            "_________________________________________________________________\n",
            " Layer (type)                Output Shape              Param #   \n",
            "=================================================================\n",
            " lstm (LSTM)                 (None, 50)                14200     \n",
            "                                                                 \n",
            " dropout (Dropout)           (None, 50)                0         \n",
            "                                                                 \n",
            " dense (Dense)               (None, 1)                 51        \n",
            "                                                                 \n",
            "=================================================================\n",
            "Total params: 14,251\n",
            "Trainable params: 14,251\n",
            "Non-trainable params: 0\n",
            "_________________________________________________________________\n"
          ]
        }
      ]
    },
    {
      "cell_type": "code",
      "source": [
        "model.compile(optimizer = 'adam', loss = 'mean_squared_error')\n"
      ],
      "metadata": {
        "id": "n2pG4FKpMy9F"
      },
      "execution_count": 42,
      "outputs": []
    },
    {
      "cell_type": "code",
      "source": [
        "callbacks=[EarlyStopping(monitor='val_loss',patience=3,verbose=1, mode='min'),\n",
        "        ModelCheckpoint(filepath='mymodel.h5',monitor='val_loss',mode='min',save_best_only=True,save_weights_only=False,verbose=1)]\n"
      ],
      "metadata": {
        "id": "jfO8ppoMM6Z2"
      },
      "execution_count": 43,
      "outputs": []
    },
    {
      "cell_type": "code",
      "source": [
        "history=model.fit(x=X_train,y=y_train, epochs=100, batch_size=20,callbacks=callbacks,validation_data=(X_test,y_test),shuffle=False)"
      ],
      "metadata": {
        "colab": {
          "base_uri": "https://localhost:8080/"
        },
        "id": "JJGemQVuM9L3",
        "outputId": "e1250dd8-ec4c-4d95-a990-572c23b8592c"
      },
      "execution_count": 48,
      "outputs": [
        {
          "output_type": "stream",
          "name": "stdout",
          "text": [
            "Epoch 1/100\n",
            "91/96 [===========================>..] - ETA: 0s - loss: 0.0278\n",
            "Epoch 1: val_loss improved from 0.05207 to 0.02388, saving model to mymodel.h5\n",
            "96/96 [==============================] - 1s 5ms/step - loss: 0.0274 - val_loss: 0.0239\n",
            "Epoch 2/100\n",
            "90/96 [===========================>..] - ETA: 0s - loss: 0.0224\n",
            "Epoch 2: val_loss improved from 0.02388 to 0.00780, saving model to mymodel.h5\n",
            "96/96 [==============================] - 0s 3ms/step - loss: 0.0220 - val_loss: 0.0078\n",
            "Epoch 3/100\n",
            "91/96 [===========================>..] - ETA: 0s - loss: 0.0133\n",
            "Epoch 3: val_loss improved from 0.00780 to 0.00217, saving model to mymodel.h5\n",
            "96/96 [==============================] - 0s 3ms/step - loss: 0.0134 - val_loss: 0.0022\n",
            "Epoch 4/100\n",
            "90/96 [===========================>..] - ETA: 0s - loss: 0.0077\n",
            "Epoch 4: val_loss improved from 0.00217 to 0.00114, saving model to mymodel.h5\n",
            "96/96 [==============================] - 0s 3ms/step - loss: 0.0083 - val_loss: 0.0011\n",
            "Epoch 5/100\n",
            "78/96 [=======================>......] - ETA: 0s - loss: 0.0046\n",
            "Epoch 5: val_loss did not improve from 0.00114\n",
            "96/96 [==============================] - 0s 4ms/step - loss: 0.0069 - val_loss: 0.0013\n",
            "Epoch 6/100\n",
            "88/96 [==========================>...] - ETA: 0s - loss: 0.0056\n",
            "Epoch 6: val_loss did not improve from 0.00114\n",
            "96/96 [==============================] - 0s 4ms/step - loss: 0.0063 - val_loss: 0.0020\n",
            "Epoch 7/100\n",
            "88/96 [==========================>...] - ETA: 0s - loss: 0.0052\n",
            "Epoch 7: val_loss did not improve from 0.00114\n",
            "96/96 [==============================] - 0s 4ms/step - loss: 0.0061 - val_loss: 0.0020\n",
            "Epoch 7: early stopping\n"
          ]
        }
      ]
    },
    {
      "cell_type": "code",
      "source": [
        "plt.figure(figsize=(20,5))\n",
        "plt.subplot(1,2,2)\n",
        "plt.plot(history.history[\"loss\"],label=\"training loss\")\n",
        "plt.plot(history.history[\"val_loss\"],label=\"validation loss\")\n",
        "plt.legend(loc=\"upper right\")\n",
        "plt.xlabel(\"Epoch\", fontsize=16)\n",
        "plt.ylabel(\"Loss\",fontsize=16)\n",
        "plt.ylim([0,max(plt.ylim())])\n",
        "plt.title(\"Training And  Validation Loss\",fontsize=16)\n",
        "plt.show()"
      ],
      "metadata": {
        "colab": {
          "base_uri": "https://localhost:8080/",
          "height": 357
        },
        "id": "Zs0XXdu2Owov",
        "outputId": "f0b6f925-c117-41ae-8f5f-e63c7d7073e7"
      },
      "execution_count": 49,
      "outputs": [
        {
          "output_type": "display_data",
          "data": {
            "text/plain": [
              "<Figure size 1440x360 with 1 Axes>"
            ],
            "image/png": "[encoded data removed]"
          },
          "metadata": {
            "needs_background": "light"
          }
        }
      ]
    },
    {
      "cell_type": "code",
      "source": [
        "loss=model.evaluate(X_test,y_test,batch_size=20)\n"
      ],
      "metadata": {
        "colab": {
          "base_uri": "https://localhost:8080/"
        },
        "id": "R-Pf89A6PH89",
        "outputId": "6d42d547-fd16-407e-e323-da3fb8d6866c"
      },
      "execution_count": 50,
      "outputs": [
        {
          "output_type": "stream",
          "name": "stdout",
          "text": [
            "24/24 [==============================] - 0s 4ms/step - loss: 0.0020\n"
          ]
        }
      ]
    },
    {
      "cell_type": "code",
      "source": [
        "print(100.0*loss)"
      ],
      "metadata": {
        "colab": {
          "base_uri": "https://localhost:8080/"
        },
        "id": "naGc3YJpPjVs",
        "outputId": "4827a42e-c19d-4318-f5ac-058b5d18f25b"
      },
      "execution_count": 51,
      "outputs": [
        {
          "output_type": "stream",
          "name": "stdout",
          "text": [
            "0.1991210738196969\n"
          ]
        }
      ]
    },
    {
      "cell_type": "code",
      "source": [
        "train_predict=model.predict(X_train)\n",
        "test_predict=model.predict(X_test)\n"
      ],
      "metadata": {
        "colab": {
          "base_uri": "https://localhost:8080/"
        },
        "id": "yEa9IiXbPnn9",
        "outputId": "51d96353-6d0f-440a-e509-b37e0be56240"
      },
      "execution_count": 52,
      "outputs": [
        {
          "output_type": "stream",
          "name": "stdout",
          "text": [
            "60/60 [==============================] - 0s 2ms/step\n",
            "15/15 [==============================] - 0s 3ms/step\n"
          ]
        }
      ]
    },
    {
      "cell_type": "code",
      "source": [
        "train_predict=scaler_train.inverse_transform(train_predict)\n",
        "test_predict=scaler_test.inverse_transform(test_predict)"
      ],
      "metadata": {
        "id": "KgoS3CgoPqeP"
      },
      "execution_count": 53,
      "outputs": []
    },
    {
      "cell_type": "code",
      "source": [
        "y_train=scaler_train.inverse_transform(y_train)\n",
        "y_test=scaler_test.inverse_transform(y_test)"
      ],
      "metadata": {
        "id": "nXPJTTl1PvnO"
      },
      "execution_count": 54,
      "outputs": []
    },
    {
      "cell_type": "code",
      "source": [
        "train_rmse=np.sqrt(mean_squared_error(y_train,train_predict))\n",
        "test_rmse=np.sqrt(mean_squared_error(y_test,test_predict))\n"
      ],
      "metadata": {
        "id": "e1UkWfG_P0R6"
      },
      "execution_count": 55,
      "outputs": []
    },
    {
      "cell_type": "code",
      "source": [
        "print(train_rmse)"
      ],
      "metadata": {
        "colab": {
          "base_uri": "https://localhost:8080/"
        },
        "id": "zpTwSr3qP0vv",
        "outputId": "f7e3933c-83aa-44a8-a961-e164ebf120d1"
      },
      "execution_count": 56,
      "outputs": [
        {
          "output_type": "stream",
          "name": "stdout",
          "text": [
            "15.356185\n"
          ]
        }
      ]
    },
    {
      "cell_type": "code",
      "source": [
        "print(test_rmse)\n"
      ],
      "metadata": {
        "colab": {
          "base_uri": "https://localhost:8080/"
        },
        "id": "Uk9u3GoCP4gk",
        "outputId": "3d21afce-fc6c-42e9-8c31-6d6adcd6430f"
      },
      "execution_count": 57,
      "outputs": [
        {
          "output_type": "stream",
          "name": "stdout",
          "text": [
            "26.819757\n"
          ]
        }
      ]
    },
    {
      "cell_type": "code",
      "source": [
        "df.describe().T\n"
      ],
      "metadata": {
        "colab": {
          "base_uri": "https://localhost:8080/",
          "height": 237
        },
        "id": "gQP7Wa9AP6Hr",
        "outputId": "8e646b4a-a0b7-48a8-bdb6-7dd219ff2564"
      },
      "execution_count": 58,
      "outputs": [
        {
          "output_type": "execute_result",
          "data": {
            "text/plain": [
              "            count          mean           std            min           25%  \\\n",
              "Open       2416.0  1.862711e+02  1.187402e+02      16.139999  3.434250e+01   \n",
              "High       2416.0  1.895782e+02  1.208923e+02      16.629999  3.489750e+01   \n",
              "Low        2416.0  1.829166e+02  1.168576e+02      14.980000  3.358750e+01   \n",
              "Close      2416.0  1.864037e+02  1.191360e+02      15.800000  3.440000e+01   \n",
              "Adj Close  2416.0  1.864037e+02  1.191360e+02      15.800000  3.440000e+01   \n",
              "Volume     2416.0  5.572722e+06  4.987809e+06  118500.000000  1.899275e+06   \n",
              "\n",
              "                    50%           75%           max  \n",
              "Open       2.130350e+02  2.664500e+02  6.736900e+02  \n",
              "High       2.167450e+02  2.709275e+02  7.861400e+02  \n",
              "Low        2.088700e+02  2.621025e+02  6.735200e+02  \n",
              "Close      2.129600e+02  2.667750e+02  7.800000e+02  \n",
              "Adj Close  2.129600e+02  2.667750e+02  7.800000e+02  \n",
              "Volume     4.578400e+06  7.361150e+06  4.706500e+07  "
            ],
            "text/html": [
              "\n",
              "  <div id=\"df-a7d2e2bb-26d9-4e62-bfd6-acd2706a817e\">\n",
              "    <div class=\"colab-df-container\">\n",
              "      <div>\n",
              "<style scoped>\n",
              "    .dataframe tbody tr th:only-of-type {\n",
              "        vertical-align: middle;\n",
              "    }\n",
              "\n",
              "    .dataframe tbody tr th {\n",
              "        vertical-align: top;\n",
              "    }\n",
              "\n",
              "    .dataframe thead th {\n",
              "        text-align: right;\n",
              "    }\n",
              "</style>\n",
              "<table border=\"1\" class=\"dataframe\">\n",
              "  <thead>\n",
              "    <tr style=\"text-align: right;\">\n",
              "      <th></th>\n",
              "      <th>count</th>\n",
              "      <th>mean</th>\n",
              "      <th>std</th>\n",
              "      <th>min</th>\n",
              "      <th>25%</th>\n",
              "      <th>50%</th>\n",
              "      <th>75%</th>\n",
              "      <th>max</th>\n",
              "    </tr>\n",
              "  </thead>\n",
              "  <tbody>\n",
              "    <tr>\n",
              "      <th>Open</th>\n",
              "      <td>2416.0</td>\n",
              "      <td>1.862711e+02</td>\n",
              "      <td>1.187402e+02</td>\n",
              "      <td>16.139999</td>\n",
              "      <td>3.434250e+01</td>\n",
              "      <td>2.130350e+02</td>\n",
              "      <td>2.664500e+02</td>\n",
              "      <td>6.736900e+02</td>\n",
              "    </tr>\n",
              "    <tr>\n",
              "      <th>High</th>\n",
              "      <td>2416.0</td>\n",
              "      <td>1.895782e+02</td>\n",
              "      <td>1.208923e+02</td>\n",
              "      <td>16.629999</td>\n",
              "      <td>3.489750e+01</td>\n",
              "      <td>2.167450e+02</td>\n",
              "      <td>2.709275e+02</td>\n",
              "      <td>7.861400e+02</td>\n",
              "    </tr>\n",
              "    <tr>\n",
              "      <th>Low</th>\n",
              "      <td>2416.0</td>\n",
              "      <td>1.829166e+02</td>\n",
              "      <td>1.168576e+02</td>\n",
              "      <td>14.980000</td>\n",
              "      <td>3.358750e+01</td>\n",
              "      <td>2.088700e+02</td>\n",
              "      <td>2.621025e+02</td>\n",
              "      <td>6.735200e+02</td>\n",
              "    </tr>\n",
              "    <tr>\n",
              "      <th>Close</th>\n",
              "      <td>2416.0</td>\n",
              "      <td>1.864037e+02</td>\n",
              "      <td>1.191360e+02</td>\n",
              "      <td>15.800000</td>\n",
              "      <td>3.440000e+01</td>\n",
              "      <td>2.129600e+02</td>\n",
              "      <td>2.667750e+02</td>\n",
              "      <td>7.800000e+02</td>\n",
              "    </tr>\n",
              "    <tr>\n",
              "      <th>Adj Close</th>\n",
              "      <td>2416.0</td>\n",
              "      <td>1.864037e+02</td>\n",
              "      <td>1.191360e+02</td>\n",
              "      <td>15.800000</td>\n",
              "      <td>3.440000e+01</td>\n",
              "      <td>2.129600e+02</td>\n",
              "      <td>2.667750e+02</td>\n",
              "      <td>7.800000e+02</td>\n",
              "    </tr>\n",
              "    <tr>\n",
              "      <th>Volume</th>\n",
              "      <td>2416.0</td>\n",
              "      <td>5.572722e+06</td>\n",
              "      <td>4.987809e+06</td>\n",
              "      <td>118500.000000</td>\n",
              "      <td>1.899275e+06</td>\n",
              "      <td>4.578400e+06</td>\n",
              "      <td>7.361150e+06</td>\n",
              "      <td>4.706500e+07</td>\n",
              "    </tr>\n",
              "  </tbody>\n",
              "</table>\n",
              "</div>\n",
              "      <button class=\"colab-df-convert\" onclick=\"convertToInteractive('df-a7d2e2bb-26d9-4e62-bfd6-acd2706a817e')\"\n",
              "              title=\"Convert this dataframe to an interactive table.\"\n",
              "              style=\"display:none;\">\n",
              "        \n",
              "  <svg xmlns=\"http://www.w3.org/2000/svg\" height=\"24px\"viewBox=\"0 0 24 24\"\n",
              "       width=\"24px\">\n",
              "    <path d=\"M0 0h24v24H0V0z\" fill=\"none\"/>\n",
              "    <path d=\"M18.56 5.44l.94 2.06.94-2.06 2.06-.94-2.06-.94-.94-2.06-.94 2.06-2.06.94zm-11 1L8.5 8.5l.94-2.06 2.06-.94-2.06-.94L8.5 2.5l-.94 2.06-2.06.94zm10 10l.94 2.06.94-2.06 2.06-.94-2.06-.94-.94-2.06-.94 2.06-2.06.94z\"/><path d=\"M17.41 7.96l-1.37-1.37c-.4-.4-.92-.59-1.43-.59-.52 0-1.04.2-1.43.59L10.3 9.45l-7.72 7.72c-.78.78-.78 2.05 0 2.83L4 21.41c.39.39.9.59 1.41.59.51 0 1.02-.2 1.41-.59l7.78-7.78 2.81-2.81c.8-.78.8-2.07 0-2.86zM5.41 20L4 18.59l7.72-7.72 1.47 1.35L5.41 20z\"/>\n",
              "  </svg>\n",
              "      </button>\n",
              "      \n",
              "  <style>\n",
              "    .colab-df-container {\n",
              "      display:flex;\n",
              "      flex-wrap:wrap;\n",
              "      gap: 12px;\n",
              "    }\n",
              "\n",
              "    .colab-df-convert {\n",
              "      background-color: #E8F0FE;\n",
              "      border: none;\n",
              "      border-radius: 50%;\n",
              "      cursor: pointer;\n",
              "      display: none;\n",
              "      fill: #1967D2;\n",
              "      height: 32px;\n",
              "      padding: 0 0 0 0;\n",
              "      width: 32px;\n",
              "    }\n",
              "\n",
              "    .colab-df-convert:hover {\n",
              "      background-color: #E2EBFA;\n",
              "      box-shadow: 0px 1px 2px rgba(60, 64, 67, 0.3), 0px 1px 3px 1px rgba(60, 64, 67, 0.15);\n",
              "      fill: #174EA6;\n",
              "    }\n",
              "\n",
              "    [theme=dark] .colab-df-convert {\n",
              "      background-color: #3B4455;\n",
              "      fill: #D2E3FC;\n",
              "    }\n",
              "\n",
              "    [theme=dark] .colab-df-convert:hover {\n",
              "      background-color: #434B5C;\n",
              "      box-shadow: 0px 1px 3px 1px rgba(0, 0, 0, 0.15);\n",
              "      filter: drop-shadow(0px 1px 2px rgba(0, 0, 0, 0.3));\n",
              "      fill: #FFFFFF;\n",
              "    }\n",
              "  </style>\n",
              "\n",
              "      <script>\n",
              "        const buttonEl =\n",
              "          document.querySelector('#df-a7d2e2bb-26d9-4e62-bfd6-acd2706a817e button.colab-df-convert');\n",
              "        buttonEl.style.display =\n",
              "          google.colab.kernel.accessAllowed ? 'block' : 'none';\n",
              "\n",
              "        async function convertToInteractive(key) {\n",
              "          const element = document.querySelector('#df-a7d2e2bb-26d9-4e62-bfd6-acd2706a817e');\n",
              "          const dataTable =\n",
              "            await google.colab.kernel.invokeFunction('convertToInteractive',\n",
              "                                                     [key], {});\n",
              "          if (!dataTable) return;\n",
              "\n",
              "          const docLinkHtml = 'Like what you see? Visit the ' +\n",
              "            '<a target=\"_blank\" href=https://colab.research.google.com/notebooks/data_table.ipynb>data table notebook</a>'\n",
              "            + ' to learn more about interactive tables.';\n",
              "          element.innerHTML = '';\n",
              "          dataTable['output_type'] = 'display_data';\n",
              "          await google.colab.output.renderOutput(dataTable, element);\n",
              "          const docLink = document.createElement('div');\n",
              "          docLink.innerHTML = docLinkHtml;\n",
              "          element.appendChild(docLink);\n",
              "        }\n",
              "      </script>\n",
              "    </div>\n",
              "  </div>\n",
              "  "
            ]
          },
          "metadata": {},
          "execution_count": 58
        }
      ]
    },
    {
      "cell_type": "code",
      "source": [
        "train_prediction_df=result_df[lookback:pos]\n",
        "train_prediction_df[\"Predicted\"]=train_predict\n",
        "train_prediction_df.head()"
      ],
      "metadata": {
        "colab": {
          "base_uri": "https://localhost:8080/",
          "height": 237
        },
        "id": "OAZFLqgrP-A7",
        "outputId": "796959e1-336a-4c3d-c839-ca12abd41d55"
      },
      "execution_count": 59,
      "outputs": [
        {
          "output_type": "execute_result",
          "data": {
            "text/plain": [
              "                Close  Predicted\n",
              "Date                            \n",
              "2010-07-28  20.719999  40.110123\n",
              "2010-07-29  20.350000  40.110123\n",
              "2010-07-30  19.940001  40.110123\n",
              "2010-08-02  20.920000  40.110123\n",
              "2010-08-03  21.950001  40.110123"
            ],
            "text/html": [
              "\n",
              "  <div id=\"df-a3a7c4a4-9070-4958-9e3a-3c559ea8fbd3\">\n",
              "    <div class=\"colab-df-container\">\n",
              "      <div>\n",
              "<style scoped>\n",
              "    .dataframe tbody tr th:only-of-type {\n",
              "        vertical-align: middle;\n",
              "    }\n",
              "\n",
              "    .dataframe tbody tr th {\n",
              "        vertical-align: top;\n",
              "    }\n",
              "\n",
              "    .dataframe thead th {\n",
              "        text-align: right;\n",
              "    }\n",
              "</style>\n",
              "<table border=\"1\" class=\"dataframe\">\n",
              "  <thead>\n",
              "    <tr style=\"text-align: right;\">\n",
              "      <th></th>\n",
              "      <th>Close</th>\n",
              "      <th>Predicted</th>\n",
              "    </tr>\n",
              "    <tr>\n",
              "      <th>Date</th>\n",
              "      <th></th>\n",
              "      <th></th>\n",
              "    </tr>\n",
              "  </thead>\n",
              "  <tbody>\n",
              "    <tr>\n",
              "      <th>2010-07-28</th>\n",
              "      <td>20.719999</td>\n",
              "      <td>40.110123</td>\n",
              "    </tr>\n",
              "    <tr>\n",
              "      <th>2010-07-29</th>\n",
              "      <td>20.350000</td>\n",
              "      <td>40.110123</td>\n",
              "    </tr>\n",
              "    <tr>\n",
              "      <th>2010-07-30</th>\n",
              "      <td>19.940001</td>\n",
              "      <td>40.110123</td>\n",
              "    </tr>\n",
              "    <tr>\n",
              "      <th>2010-08-02</th>\n",
              "      <td>20.920000</td>\n",
              "      <td>40.110123</td>\n",
              "    </tr>\n",
              "    <tr>\n",
              "      <th>2010-08-03</th>\n",
              "      <td>21.950001</td>\n",
              "      <td>40.110123</td>\n",
              "    </tr>\n",
              "  </tbody>\n",
              "</table>\n",
              "</div>\n",
              "      <button class=\"colab-df-convert\" onclick=\"convertToInteractive('df-a3a7c4a4-9070-4958-9e3a-3c559ea8fbd3')\"\n",
              "              title=\"Convert this dataframe to an interactive table.\"\n",
              "              style=\"display:none;\">\n",
              "        \n",
              "  <svg xmlns=\"http://www.w3.org/2000/svg\" height=\"24px\"viewBox=\"0 0 24 24\"\n",
              "       width=\"24px\">\n",
              "    <path d=\"M0 0h24v24H0V0z\" fill=\"none\"/>\n",
              "    <path d=\"M18.56 5.44l.94 2.06.94-2.06 2.06-.94-2.06-.94-.94-2.06-.94 2.06-2.06.94zm-11 1L8.5 8.5l.94-2.06 2.06-.94-2.06-.94L8.5 2.5l-.94 2.06-2.06.94zm10 10l.94 2.06.94-2.06 2.06-.94-2.06-.94-.94-2.06-.94 2.06-2.06.94z\"/><path d=\"M17.41 7.96l-1.37-1.37c-.4-.4-.92-.59-1.43-.59-.52 0-1.04.2-1.43.59L10.3 9.45l-7.72 7.72c-.78.78-.78 2.05 0 2.83L4 21.41c.39.39.9.59 1.41.59.51 0 1.02-.2 1.41-.59l7.78-7.78 2.81-2.81c.8-.78.8-2.07 0-2.86zM5.41 20L4 18.59l7.72-7.72 1.47 1.35L5.41 20z\"/>\n",
              "  </svg>\n",
              "      </button>\n",
              "      \n",
              "  <style>\n",
              "    .colab-df-container {\n",
              "      display:flex;\n",
              "      flex-wrap:wrap;\n",
              "      gap: 12px;\n",
              "    }\n",
              "\n",
              "    .colab-df-convert {\n",
              "      background-color: #E8F0FE;\n",
              "      border: none;\n",
              "      border-radius: 50%;\n",
              "      cursor: pointer;\n",
              "      display: none;\n",
              "      fill: #1967D2;\n",
              "      height: 32px;\n",
              "      padding: 0 0 0 0;\n",
              "      width: 32px;\n",
              "    }\n",
              "\n",
              "    .colab-df-convert:hover {\n",
              "      background-color: #E2EBFA;\n",
              "      box-shadow: 0px 1px 2px rgba(60, 64, 67, 0.3), 0px 1px 3px 1px rgba(60, 64, 67, 0.15);\n",
              "      fill: #174EA6;\n",
              "    }\n",
              "\n",
              "    [theme=dark] .colab-df-convert {\n",
              "      background-color: #3B4455;\n",
              "      fill: #D2E3FC;\n",
              "    }\n",
              "\n",
              "    [theme=dark] .colab-df-convert:hover {\n",
              "      background-color: #434B5C;\n",
              "      box-shadow: 0px 1px 3px 1px rgba(0, 0, 0, 0.15);\n",
              "      filter: drop-shadow(0px 1px 2px rgba(0, 0, 0, 0.3));\n",
              "      fill: #FFFFFF;\n",
              "    }\n",
              "  </style>\n",
              "\n",
              "      <script>\n",
              "        const buttonEl =\n",
              "          document.querySelector('#df-a3a7c4a4-9070-4958-9e3a-3c559ea8fbd3 button.colab-df-convert');\n",
              "        buttonEl.style.display =\n",
              "          google.colab.kernel.accessAllowed ? 'block' : 'none';\n",
              "\n",
              "        async function convertToInteractive(key) {\n",
              "          const element = document.querySelector('#df-a3a7c4a4-9070-4958-9e3a-3c559ea8fbd3');\n",
              "          const dataTable =\n",
              "            await google.colab.kernel.invokeFunction('convertToInteractive',\n",
              "                                                     [key], {});\n",
              "          if (!dataTable) return;\n",
              "\n",
              "          const docLinkHtml = 'Like what you see? Visit the ' +\n",
              "            '<a target=\"_blank\" href=https://colab.research.google.com/notebooks/data_table.ipynb>data table notebook</a>'\n",
              "            + ' to learn more about interactive tables.';\n",
              "          element.innerHTML = '';\n",
              "          dataTable['output_type'] = 'display_data';\n",
              "          await google.colab.output.renderOutput(dataTable, element);\n",
              "          const docLink = document.createElement('div');\n",
              "          docLink.innerHTML = docLinkHtml;\n",
              "          element.appendChild(docLink);\n",
              "        }\n",
              "      </script>\n",
              "    </div>\n",
              "  </div>\n",
              "  "
            ]
          },
          "metadata": {},
          "execution_count": 59
        }
      ]
    },
    {
      "cell_type": "code",
      "source": [
        "test_prediction_df= result_df[pos+lookback:]\n",
        "test_prediction_df[\"Predicted\"]=test_predict\n",
        "test_prediction_df.head()"
      ],
      "metadata": {
        "colab": {
          "base_uri": "https://localhost:8080/",
          "height": 237
        },
        "id": "5w1ZATKRQKgL",
        "outputId": "e4089d18-6ee1-4636-966a-9c8e305b516f"
      },
      "execution_count": 60,
      "outputs": [
        {
          "output_type": "execute_result",
          "data": {
            "text/plain": [
              "                 Close   Predicted\n",
              "Date                              \n",
              "2018-04-03  267.529999  262.556305\n",
              "2018-04-04  286.940002  259.058838\n",
              "2018-04-05  305.720001  261.020691\n",
              "2018-04-06  299.299988  266.850250\n",
              "2018-04-09  289.660004  270.297211"
            ],
            "text/html": [
              "\n",
              "  <div id=\"df-6b00ce24-f13b-43d1-b356-464a6f8e96a8\">\n",
              "    <div class=\"colab-df-container\">\n",
              "      <div>\n",
              "<style scoped>\n",
              "    .dataframe tbody tr th:only-of-type {\n",
              "        vertical-align: middle;\n",
              "    }\n",
              "\n",
              "    .dataframe tbody tr th {\n",
              "        vertical-align: top;\n",
              "    }\n",
              "\n",
              "    .dataframe thead th {\n",
              "        text-align: right;\n",
              "    }\n",
              "</style>\n",
              "<table border=\"1\" class=\"dataframe\">\n",
              "  <thead>\n",
              "    <tr style=\"text-align: right;\">\n",
              "      <th></th>\n",
              "      <th>Close</th>\n",
              "      <th>Predicted</th>\n",
              "    </tr>\n",
              "    <tr>\n",
              "      <th>Date</th>\n",
              "      <th></th>\n",
              "      <th></th>\n",
              "    </tr>\n",
              "  </thead>\n",
              "  <tbody>\n",
              "    <tr>\n",
              "      <th>2018-04-03</th>\n",
              "      <td>267.529999</td>\n",
              "      <td>262.556305</td>\n",
              "    </tr>\n",
              "    <tr>\n",
              "      <th>2018-04-04</th>\n",
              "      <td>286.940002</td>\n",
              "      <td>259.058838</td>\n",
              "    </tr>\n",
              "    <tr>\n",
              "      <th>2018-04-05</th>\n",
              "      <td>305.720001</td>\n",
              "      <td>261.020691</td>\n",
              "    </tr>\n",
              "    <tr>\n",
              "      <th>2018-04-06</th>\n",
              "      <td>299.299988</td>\n",
              "      <td>266.850250</td>\n",
              "    </tr>\n",
              "    <tr>\n",
              "      <th>2018-04-09</th>\n",
              "      <td>289.660004</td>\n",
              "      <td>270.297211</td>\n",
              "    </tr>\n",
              "  </tbody>\n",
              "</table>\n",
              "</div>\n",
              "      <button class=\"colab-df-convert\" onclick=\"convertToInteractive('df-6b00ce24-f13b-43d1-b356-464a6f8e96a8')\"\n",
              "              title=\"Convert this dataframe to an interactive table.\"\n",
              "              style=\"display:none;\">\n",
              "        \n",
              "  <svg xmlns=\"http://www.w3.org/2000/svg\" height=\"24px\"viewBox=\"0 0 24 24\"\n",
              "       width=\"24px\">\n",
              "    <path d=\"M0 0h24v24H0V0z\" fill=\"none\"/>\n",
              "    <path d=\"M18.56 5.44l.94 2.06.94-2.06 2.06-.94-2.06-.94-.94-2.06-.94 2.06-2.06.94zm-11 1L8.5 8.5l.94-2.06 2.06-.94-2.06-.94L8.5 2.5l-.94 2.06-2.06.94zm10 10l.94 2.06.94-2.06 2.06-.94-2.06-.94-.94-2.06-.94 2.06-2.06.94z\"/><path d=\"M17.41 7.96l-1.37-1.37c-.4-.4-.92-.59-1.43-.59-.52 0-1.04.2-1.43.59L10.3 9.45l-7.72 7.72c-.78.78-.78 2.05 0 2.83L4 21.41c.39.39.9.59 1.41.59.51 0 1.02-.2 1.41-.59l7.78-7.78 2.81-2.81c.8-.78.8-2.07 0-2.86zM5.41 20L4 18.59l7.72-7.72 1.47 1.35L5.41 20z\"/>\n",
              "  </svg>\n",
              "      </button>\n",
              "      \n",
              "  <style>\n",
              "    .colab-df-container {\n",
              "      display:flex;\n",
              "      flex-wrap:wrap;\n",
              "      gap: 12px;\n",
              "    }\n",
              "\n",
              "    .colab-df-convert {\n",
              "      background-color: #E8F0FE;\n",
              "      border: none;\n",
              "      border-radius: 50%;\n",
              "      cursor: pointer;\n",
              "      display: none;\n",
              "      fill: #1967D2;\n",
              "      height: 32px;\n",
              "      padding: 0 0 0 0;\n",
              "      width: 32px;\n",
              "    }\n",
              "\n",
              "    .colab-df-convert:hover {\n",
              "      background-color: #E2EBFA;\n",
              "      box-shadow: 0px 1px 2px rgba(60, 64, 67, 0.3), 0px 1px 3px 1px rgba(60, 64, 67, 0.15);\n",
              "      fill: #174EA6;\n",
              "    }\n",
              "\n",
              "    [theme=dark] .colab-df-convert {\n",
              "      background-color: #3B4455;\n",
              "      fill: #D2E3FC;\n",
              "    }\n",
              "\n",
              "    [theme=dark] .colab-df-convert:hover {\n",
              "      background-color: #434B5C;\n",
              "      box-shadow: 0px 1px 3px 1px rgba(0, 0, 0, 0.15);\n",
              "      filter: drop-shadow(0px 1px 2px rgba(0, 0, 0, 0.3));\n",
              "      fill: #FFFFFF;\n",
              "    }\n",
              "  </style>\n",
              "\n",
              "      <script>\n",
              "        const buttonEl =\n",
              "          document.querySelector('#df-6b00ce24-f13b-43d1-b356-464a6f8e96a8 button.colab-df-convert');\n",
              "        buttonEl.style.display =\n",
              "          google.colab.kernel.accessAllowed ? 'block' : 'none';\n",
              "\n",
              "        async function convertToInteractive(key) {\n",
              "          const element = document.querySelector('#df-6b00ce24-f13b-43d1-b356-464a6f8e96a8');\n",
              "          const dataTable =\n",
              "            await google.colab.kernel.invokeFunction('convertToInteractive',\n",
              "                                                     [key], {});\n",
              "          if (!dataTable) return;\n",
              "\n",
              "          const docLinkHtml = 'Like what you see? Visit the ' +\n",
              "            '<a target=\"_blank\" href=https://colab.research.google.com/notebooks/data_table.ipynb>data table notebook</a>'\n",
              "            + ' to learn more about interactive tables.';\n",
              "          element.innerHTML = '';\n",
              "          dataTable['output_type'] = 'display_data';\n",
              "          await google.colab.output.renderOutput(dataTable, element);\n",
              "          const docLink = document.createElement('div');\n",
              "          docLink.innerHTML = docLinkHtml;\n",
              "          element.appendChild(docLink);\n",
              "        }\n",
              "      </script>\n",
              "    </div>\n",
              "  </div>\n",
              "  "
            ]
          },
          "metadata": {},
          "execution_count": 60
        }
      ]
    },
    {
      "cell_type": "code",
      "source": [
        "plt.figure(figsize=(14,5))\n",
        "plt.plot(result_df,label=\"Real Values\")\n",
        "plt.plot(train_prediction_df[\"Predicted\"],color=\"blue\",label=\"Train Predicted \")\n",
        "plt.plot(test_prediction_df[\"Predicted\"],color=\"red\",label=\"Test Predicted \")\n",
        "plt.xlabel(\"Time\")\n",
        "plt.ylabel(\"Stock Values\")\n",
        "plt.legend()\n",
        "plt.show()"
      ],
      "metadata": {
        "colab": {
          "base_uri": "https://localhost:8080/",
          "height": 334
        },
        "id": "md8B5HHXQMgQ",
        "outputId": "68f7a174-6278-4eea-dfc4-1915a1bec96c"
      },
      "execution_count": 61,
      "outputs": [
        {
          "output_type": "display_data",
          "data": {
            "text/plain": [
              "<Figure size 1008x360 with 1 Axes>"
            ],
            "image/png": "[encoded data removed]"
          },
          "metadata": {
            "needs_background": "light"
          }
        }
      ]
    },
    {
      "cell_type": "code",
      "source": [],
      "metadata": {
        "id": "VbnsQXrrQefL"
      },
      "execution_count": null,
      "outputs": []
    }
  ]
}